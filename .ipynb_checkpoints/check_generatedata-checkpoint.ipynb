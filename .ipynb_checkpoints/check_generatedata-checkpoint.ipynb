{
 "cells": [
  {
   "cell_type": "code",
   "execution_count": 1,
   "id": "1d00aaef-d135-48bb-98c2-f54468dbaf08",
   "metadata": {},
   "outputs": [],
   "source": [
    "from PIL import Image\n",
    "import os\n",
    "import glob\n",
    "import numpy as np\n",
    "from sklearn import model_selection\n",
    "\n",
    "classes = [\"monkey\", \"boar\", \"crow\"]\n",
    "num_classes = len(classes)\n",
    "image_size = 50\n",
    "\n",
    "# read images\n",
    "X = []\n",
    "Y = []\n",
    "\n",
    "for index, classlabel in enumerate(classes):\n",
    "    photos_dir = \"./\" + classlabel\n",
    "    files = glob.glob(photos_dir + \"/*.jpg\")\n",
    "    for i, file in enumerate(files):\n",
    "        if i >= 200:\n",
    "            break\n",
    "        image = Image.open(file)\n",
    "        image = image.convert(\"RGB\")\n",
    "        image = image.resize((image_size, image_size))\n",
    "        data = np.asarray(image)\n",
    "        X.append(data)\n",
    "        Y.append(index)\n",
    "\n",
    "X = np.array(X)\n",
    "Y = np.array(Y)\n",
    "\n",
    "X_train, X_test, y_train, y_test = model_selection.train_test_split(X, Y)\n",
    "xy = (X_train, X_test, y_train, y_test)\n",
    "np.save(\"./X_train.npy\", X_train)\n",
    "np.save(\"./X_test.npy\", X_test)\n",
    "np.save(\"./y_train.npy\", y_train)\n",
    "np.save(\"./y_test.npy\", y_test)"
   ]
  },
  {
   "cell_type": "code",
   "execution_count": 2,
   "id": "1fe34911-3a96-4700-bc2a-224ec64f9c70",
   "metadata": {},
   "outputs": [
    {
     "data": {
      "text/plain": [
       "450"
      ]
     },
     "execution_count": 2,
     "metadata": {},
     "output_type": "execute_result"
    }
   ],
   "source": [
    "len(X_train)"
   ]
  },
  {
   "cell_type": "code",
   "execution_count": 3,
   "id": "d3dc4c1a-0f5c-4b18-8259-fb25549c6f1e",
   "metadata": {},
   "outputs": [
    {
     "data": {
      "text/plain": [
       "150"
      ]
     },
     "execution_count": 3,
     "metadata": {},
     "output_type": "execute_result"
    }
   ],
   "source": [
    "len(X_test)"
   ]
  },
  {
   "cell_type": "code",
   "execution_count": 4,
   "id": "a4cb632e-2a1c-439c-a371-6bd29f83defb",
   "metadata": {},
   "outputs": [
    {
     "data": {
      "text/plain": [
       "450"
      ]
     },
     "execution_count": 4,
     "metadata": {},
     "output_type": "execute_result"
    }
   ],
   "source": [
    "len(y_train)"
   ]
  },
  {
   "cell_type": "code",
   "execution_count": 5,
   "id": "2b8e7a41-44d0-4100-80c9-14a2f8661290",
   "metadata": {},
   "outputs": [
    {
     "data": {
      "text/plain": [
       "150"
      ]
     },
     "execution_count": 5,
     "metadata": {},
     "output_type": "execute_result"
    }
   ],
   "source": [
    "len(y_test)"
   ]
  },
  {
   "cell_type": "code",
   "execution_count": 6,
   "id": "e1df57c6-75ad-4cd8-90e1-40571b559597",
   "metadata": {},
   "outputs": [
    {
     "data": {
      "text/plain": [
       "array([[[ 31,  62,  31],\n",
       "        [ 36,  69,  37],\n",
       "        [ 36,  69,  35],\n",
       "        ...,\n",
       "        [ 94, 112, 110],\n",
       "        [ 90, 110, 110],\n",
       "        [ 94, 110, 114]],\n",
       "\n",
       "       [[ 44,  71,  43],\n",
       "        [ 53,  81,  51],\n",
       "        [ 53,  83,  51],\n",
       "        ...,\n",
       "        [ 70,  87,  78],\n",
       "        [ 71,  90,  89],\n",
       "        [ 85, 101, 104]],\n",
       "\n",
       "       [[ 45,  74,  46],\n",
       "        [ 45,  74,  46],\n",
       "        [ 42,  73,  42],\n",
       "        ...,\n",
       "        [ 90, 106, 102],\n",
       "        [ 99, 116, 120],\n",
       "        [109, 126, 133]],\n",
       "\n",
       "       ...,\n",
       "\n",
       "       [[197, 179, 166],\n",
       "        [195, 176, 163],\n",
       "        [195, 177, 162],\n",
       "        ...,\n",
       "        [188, 167, 152],\n",
       "        [189, 169, 153],\n",
       "        [187, 167, 145]],\n",
       "\n",
       "       [[202, 185, 170],\n",
       "        [197, 179, 165],\n",
       "        [197, 177, 166],\n",
       "        ...,\n",
       "        [195, 172, 156],\n",
       "        [189, 169, 151],\n",
       "        [193, 173, 154]],\n",
       "\n",
       "       [[194, 177, 162],\n",
       "        [199, 181, 169],\n",
       "        [198, 177, 167],\n",
       "        ...,\n",
       "        [192, 169, 153],\n",
       "        [189, 167, 152],\n",
       "        [190, 168, 153]]], dtype=uint8)"
      ]
     },
     "execution_count": 6,
     "metadata": {},
     "output_type": "execute_result"
    }
   ],
   "source": [
    "X_train[100]"
   ]
  },
  {
   "cell_type": "code",
   "execution_count": 9,
   "id": "21ee129b-fbbb-4b39-86ae-a46910afc1f3",
   "metadata": {},
   "outputs": [
    {
     "data": {
      "text/plain": [
       "1"
      ]
     },
     "execution_count": 9,
     "metadata": {},
     "output_type": "execute_result"
    }
   ],
   "source": [
    "y_train[101]"
   ]
  },
  {
   "cell_type": "code",
   "execution_count": null,
   "id": "e6833e38-381c-49b1-ba77-b27c5f062200",
   "metadata": {},
   "outputs": [],
   "source": []
  }
 ],
 "metadata": {
  "kernelspec": {
   "display_name": "Python 3 (ipykernel)",
   "language": "python",
   "name": "python3"
  },
  "language_info": {
   "codemirror_mode": {
    "name": "ipython",
    "version": 3
   },
   "file_extension": ".py",
   "mimetype": "text/x-python",
   "name": "python",
   "nbconvert_exporter": "python",
   "pygments_lexer": "ipython3",
   "version": "3.10.13"
  }
 },
 "nbformat": 4,
 "nbformat_minor": 5
}
